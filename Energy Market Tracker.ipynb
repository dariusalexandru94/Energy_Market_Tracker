{
 "cells": [
  {
   "cell_type": "markdown",
   "id": "f8fd3b1b",
   "metadata": {},
   "source": [
    "# <center>Energy Market Tracker<center> <center> Pipeline for Apache Cassandra DW<center>"
   ]
  },
  {
   "cell_type": "markdown",
   "id": "d264c9c4",
   "metadata": {},
   "source": [
    "This project aims to **collect daily data** on energy sector prices (such as oil, natural gas, solar energy, wind energy, nuclear energy, and coal) and **store it** in an **Apache Cassandra Data Warehouse** for analysis."
   ]
  },
  {
   "cell_type": "markdown",
   "id": "91ab6e4b",
   "metadata": {},
   "source": [
    "For this project I have used the following sources:\n",
    "* www.oilprice.com - Oilprice.com is the most popular energy news site in the world\n",
    "* www.trandingeconomics.com - provides over 20 million economic indicators for 196 countries\n",
    "* www.markets.businessinsider.com - an American media company known for publishing financial news"
   ]
  },
  {
   "cell_type": "code",
   "execution_count": null,
   "id": "bab21266",
   "metadata": {},
   "outputs": [],
   "source": [
    "from bs4 import BeautifulSoup as bs\n",
    "import urllib.request\n",
    "import datetime\n",
    "from cassandra.cluster import Cluster \n",
    "import requests"
   ]
  },
  {
   "cell_type": "markdown",
   "id": "efa009ac",
   "metadata": {},
   "source": [
    "## System TIMESTAMP"
   ]
  },
  {
   "cell_type": "code",
   "execution_count": 2,
   "id": "5734511e",
   "metadata": {},
   "outputs": [],
   "source": [
    "# SYSTEM TIMESTAMP\n",
    "\n",
    "system_timestamp = datetime.datetime.now()\n",
    "system_time = str(system_timestamp).split('.')[0]"
   ]
  },
  {
   "cell_type": "markdown",
   "id": "982a25c1",
   "metadata": {},
   "source": [
    "## Oil & natural gas"
   ]
  },
  {
   "cell_type": "code",
   "execution_count": 3,
   "id": "81c02556",
   "metadata": {},
   "outputs": [],
   "source": [
    "#OIL, NATURAL GAS\n",
    "\n",
    "page = urllib.request.urlopen(\"https://oilprice.com/oil-price-charts/#prices\")\n",
    "soup1 = bs(page)\n",
    "\n",
    "oil1 = soup1.find_all('span', class_='blend_name_span')\n",
    "lprice = soup1.find_all('td', class_ = 'last_price')\n",
    "oilchange = soup1.find_all('td', class_ = 'change_up flat_change_cell')\n",
    "oilchange_percent = soup1.find_all('td', class_ = 'change_up_percent percent_change_cell')\n",
    "op = soup1.find_all('td', class_ = 'change_up')\n",
    "op1 = soup1.find_all('td', class_ = 'change_up_percent')\n",
    "\n",
    "wti_crude_name = oil1[0].text\n",
    "brent_crude_name= oil1[1].text\n",
    "wti_crude_price = lprice[0].text\n",
    "brent_crude_price = lprice[1].text\n",
    "wti_crude_change = oilchange[0].text\n",
    "brent_crude_change = oilchange[1].text\n",
    "wti_crude_percent = oilchange_percent[0].text[:6]\n",
    "brent_crude_percent = oilchange_percent[1].text[:6]\n",
    "ng_name = oil1[2].text\n",
    "ng_price = lprice[2].text\n",
    "ng_change = oilchange[2].text\n",
    "ng_percent = oilchange_percent[2].text[:6]\n",
    "opec_name = oil1[5].text\n",
    "opec_price = lprice[5].text\n",
    "opec_change = op[5].text\n",
    "opec_percent = op1[5].text[:6]\n",
    "\n",
    "wti = {'name':wti_crude_name, 'last':wti_crude_price, 'change':wti_crude_change, '% change':wti_crude_percent}\n",
    "brent = {'name':brent_crude_name, 'last':brent_crude_price, 'change':brent_crude_change, '% change':brent_crude_percent}\n",
    "opec = {'name':opec_name, 'last':opec_price, 'change':opec_change, '% change':opec_percent}\n",
    "natural_gas = {'name':ng_name, 'last':ng_price, 'change':ng_change, '% change':ng_percent}"
   ]
  },
  {
   "cell_type": "code",
   "execution_count": 4,
   "id": "9b9ea1fc",
   "metadata": {},
   "outputs": [
    {
     "name": "stdout",
     "output_type": "stream",
     "text": [
      "{'name': 'Heating Oil', 'last': '2.642', 'change': '+0.000', '% change': '+0%(13'}\n"
     ]
    }
   ],
   "source": [
    "print(opec)"
   ]
  },
  {
   "cell_type": "markdown",
   "id": "3d69809b",
   "metadata": {},
   "source": [
    "## Solar, wind and nuclear energy"
   ]
  },
  {
   "cell_type": "code",
   "execution_count": null,
   "id": "aaca6cb7",
   "metadata": {},
   "outputs": [],
   "source": [
    "# SOLAR, WIND, NUCLEAR\n",
    "\n",
    "headers = {\n",
    "    'User-Agent': 'Mozilla/5.0 (Windows NT 10.0; Win64; x64) AppleWebKit/537.36 (KHTML, like Gecko) Chrome/80.0.3987.163 Safari/537.36'\n",
    "}\n",
    "\n",
    "url2 = 'https://tradingeconomics.com/commodities'\n",
    "\n",
    "response = requests.get(url2, headers=headers)\n",
    "soup2 = bs(response.content, 'html.parser')"
   ]
  },
  {
   "cell_type": "code",
   "execution_count": null,
   "id": "dbcb6f2d",
   "metadata": {},
   "outputs": [],
   "source": [
    "# SOLAR, WIND, NUCLEAR\n",
    "#page = urllib.request.urlopen(\"https://tradingeconomics.com/commodities\")\n",
    "#soup2 = bs(page)\n",
    "\n",
    "w = soup2.find_all('tr', class_ = 'datatable-row')\n",
    "pr = soup2.find_all('tr', class_ = 'datatable-row')\n",
    "n = soup2.find_all('tr', class_ = 'datatable-row-alternating')\n",
    "\n",
    "wind1 = str(w[36]).split('<')\n",
    "wind_name = wind1[4][2::]\n",
    "wind_price = wind1[10].split(\" \")[83]\n",
    "wind_change = wind1[12].split('\"')[3]\n",
    "wind_percent = wind1[16].split('\"')[3] + '%'\n",
    "\n",
    "solar = str(pr[35]).split('<')\n",
    "solar_name = solar[4][2::]\n",
    "solar_price = solar[10].split(\" \")[83]\n",
    "solar_change = solar[12].split('\"')[3]\n",
    "solar_percent = solar[16].split('\"')[3] + '%'\n",
    "\n",
    "nuclear1 = str(n[30]).split('<')\n",
    "nuclear_name = nuclear1[4][2::]\n",
    "nuclear_price = nuclear1[10].split(\" \")[83]\n",
    "nuclear_change = nuclear1[12].split('\"')[3]\n",
    "nuclear_percent = nuclear1[16].split('\"')[3] + '%'\n",
    "\n",
    "wind = {'name':wind_name, 'last':wind_price, 'change':wind_change, '% change':wind_percent}\n",
    "solar = {'name':solar_name, 'last':solar_price, 'change':solar_change, '% change':solar_percent}\n",
    "nuclear = {'name':nuclear_name, 'last':nuclear_price, 'change':nuclear_change, '% change':nuclear_percent}"
   ]
  },
  {
   "cell_type": "code",
   "execution_count": null,
   "id": "6a822590",
   "metadata": {},
   "outputs": [],
   "source": [
    "# Function to extract data from HTML elements\n",
    "def extract_data(row):\n",
    "    columns = row.find_all('td')\n",
    "    name = columns[1].text.strip()\n",
    "    last_price = columns[2].text.strip()\n",
    "    change = columns[3].text.strip()\n",
    "    percent_change = columns[4].text.strip()\n",
    "    return {'name': name, 'last': last_price, 'change': change, '% change': percent_change}\n",
    "\n",
    "# Find rows containing data for solar, wind, and nuclear\n",
    "rows = soup2.find_all('tr', class_='datatable-row') + soup2.find_all('tr', class_='datatable-row-alternating')\n",
    "\n",
    "# Extract data for solar, wind, and nuclear using try-except blocks\n",
    "solar_data, wind_data, nuclear_data = {}, {}, {}\n",
    "\n",
    "for row in rows:\n",
    "    try:\n",
    "        name = row.find('a').text.strip().lower()\n",
    "        if 'solar' in name:\n",
    "            solar_data = extract_data(row)\n",
    "        elif 'wind' in name:\n",
    "            wind_data = extract_data(row)\n",
    "        elif 'nuclear' in name:\n",
    "            nuclear_data = extract_data(row)\n",
    "    except Exception as e:\n",
    "        print(f\"Error occurred: {e}\")\n",
    "\n",
    "# Print the extracted data\n",
    "print(\"Solar Data:\", solar_data)\n",
    "print(\"Wind Data:\", wind_data)\n",
    "print(\"Nuclear Data:\", nuclear_data)"
   ]
  },
  {
   "cell_type": "markdown",
   "id": "4a614271",
   "metadata": {},
   "source": [
    "## Coal"
   ]
  },
  {
   "cell_type": "code",
   "execution_count": 8,
   "id": "389415d2",
   "metadata": {},
   "outputs": [],
   "source": [
    "#COAL\n",
    "page = urllib.request.urlopen(\"https://markets.businessinsider.com/commodities/coal-price\")\n",
    "soup3 = bs(page)\n",
    "\n",
    "c = soup3.find_all('div', class_ = 'price-section__row')\n",
    "\n",
    "cc = str(c).split('<')\n",
    "coal_name = cc[3][34:38]\n",
    "coal_price = cc[9].split('>')[-1]\n",
    "coal_change = cc[13].split('>')[-1]\n",
    "coal_percent = cc[15].split('>')[-1]\n",
    "\n",
    "coal = {'name':coal_name, 'last':coal_price, 'change':coal_change, '% change':coal_percent}"
   ]
  },
  {
   "cell_type": "markdown",
   "id": "fa181bb2",
   "metadata": {},
   "source": [
    "## Sources"
   ]
  },
  {
   "cell_type": "code",
   "execution_count": 9,
   "id": "d6b529d7",
   "metadata": {},
   "outputs": [],
   "source": [
    "# SOURCES\n",
    "\n",
    "s1_id = 1\n",
    "s2_id = 2\n",
    "s3_id = 3\n",
    "\n",
    "s1_name = 'oilprice.com'\n",
    "s2_name = 'TRANDING ECONOMICS'\n",
    "s3_name = 'U.S. Insider Inc.'\n",
    "\n",
    "s1_description = 'Oilprice.com is the most popular energy news site in the world'\n",
    "s2_description = 'provides over 20 million economic indicators for 196 countries'\n",
    "s3_description = 'an American online media company known for publishing the financial news website Insider'\n",
    "\n",
    "s1_publisher = 'www.oilprice.com'\n",
    "s2_publisher = 'www.trandingeconomics.com'\n",
    "s3_publisher = 'www.markets.businessinsider.com'\n",
    "\n",
    "s1_attr = {'last':'', 'change':'', '% change':''}\n",
    "s2_attr = {'last':'', 'change':'', '% change':''}\n",
    "s3_attr = {'last':'', 'change':'', '% change':''}\n",
    "\n",
    "s1 = {'id':s1_id, 'name':s1_name, 'description':s1_description, \n",
    "      'Publisher':s1_publisher, 'SystemDate':system_time, 'Attributes':s1_attr}\n",
    "s2 = {'id':s2_id, 'name':s2_name, 'description':s2_description, \n",
    "      'Publisher':s2_publisher, 'SystemDate':system_time, 'Attributes':s2_attr}\n",
    "s3 = {'id':s3_id, 'name':s3_name, 'description':s3_description, \n",
    "      'Publisher':s3_publisher, 'SystemDate':system_time, 'Attributes':s3_attr}"
   ]
  },
  {
   "cell_type": "markdown",
   "id": "e74a0543",
   "metadata": {},
   "source": [
    "## Assets"
   ]
  },
  {
   "cell_type": "code",
   "execution_count": null,
   "id": "0c8863c2",
   "metadata": {},
   "outputs": [],
   "source": [
    "#ASSET\n",
    "\n",
    "as1_attr = {'last':wti_crude_price, 'change':wti_crude_change, '% change':wti_crude_percent}\n",
    "as2_attr = {'last':brent_crude_price, 'change':brent_crude_change, '% change':brent_crude_percent}\n",
    "as3_attr = {'last':opec_price, 'change':opec_change, '% change':opec_percent}\n",
    "as4_attr = {'last':ng_price, 'change':ng_change, '% change':ng_percent}\n",
    "as5_attr = {'last':wind_price, 'change':wind_change, '% change':wind_percent}\n",
    "as6_attr = {'last':solar_price, 'change':solar_change, '% change':solar_percent}\n",
    "as7_attr = {'last':nuclear_price, 'change':nuclear_change, '% change':nuclear_percent}\n",
    "as8_attr = {'last':coal_price, 'change':coal_change, '% change':coal_percent}\n",
    "\n",
    "as1_name = 'WTI CRUDE'\n",
    "as2_name = 'BRENT CRUDE'\n",
    "as3_name = 'OPEC BASKET'\n",
    "as4_name = 'NATURAL GAS'\n",
    "as5_name = 'Coal'\n",
    "as6_name = 'Wind Energy Index'\n",
    "as7_name = 'Solar Energy Index'\n",
    "as8_name = 'Nuclear Energy Index'\n",
    "\n",
    "as1_id = 1\n",
    "as2_id = 2\n",
    "as3_id = 3\n",
    "as4_id = 4\n",
    "as5_id = 5\n",
    "as6_id = 6\n",
    "as7_id = 7\n",
    "as8_id = 8\n",
    "\n",
    "as1_desc = 'West Texas Intermediate'\n",
    "as2_desc = 'North Sea'\n",
    "as3_desc = 'OPEC Reference Basket (ORB)'\n",
    "\n",
    "a1 = {'Id':as1_id, 'Name':as1_name, 'Description':as1_desc, 'SystemDate':system_time, 'Attributes':as1_attr}\n",
    "a2 = {'Id':as2_id, 'Name':as2_name, 'Description':as2_desc, 'SystemDate':system_time, 'Attributes':as2_attr}\n",
    "a3 = {'Id':as3_id, 'Name':as3_name, 'Description':as3_desc, 'SystemDate':system_time, 'Attributes':as3_attr}\n",
    "a4 = {'Id':as4_id, 'Name':as4_name, 'SystemDate':system_time, 'Attributes':as4_attr}\n",
    "a5 = {'Id':as5_id, 'Name':as5_name, 'SystemDate':system_time, 'Attributes':as5_attr}\n",
    "a6 = {'Id':as5_id, 'Name':as5_name, 'SystemDate':system_time, 'Attributes':as6_attr}\n",
    "a7 = {'Id':as6_id, 'Name':as6_name, 'SystemDate':system_time, 'Attributes':as7_attr}\n",
    "a8 = {'Id':as7_id, 'Name':as7_name, 'SystemDate':system_time, 'Attributes':as8_attr}"
   ]
  },
  {
   "cell_type": "markdown",
   "id": "ecb093c1",
   "metadata": {},
   "source": [
    "## Apache Cassandra ingestion"
   ]
  },
  {
   "cell_type": "code",
   "execution_count": 57,
   "id": "6af17e83",
   "metadata": {},
   "outputs": [],
   "source": [
    "# CLUSTER connection\n",
    "############### INSERT INTO energy.asset\n",
    "cluster = Cluster()\n",
    "session = cluster.connect('energy')\n",
    "\n",
    "insert_sql = (\"INSERT INTO energy.asset (id, name, description, SystemDate, attributes) \"\n",
    "              \"VALUES(%s, %s, %s, %s, %s) \")\n",
    "\n",
    "insert_data = (1, as1_name, as1_desc, system_time, as1_attr)\n",
    "session.execute(insert_sql, insert_data)\n",
    "insert_data = (2, as2_name, as2_desc, system_time, as2_attr)\n",
    "session.execute(insert_sql, insert_data)\n",
    "insert_data = (3, as3_name, as3_desc, system_time, as3_attr)\n",
    "session.execute(insert_sql, insert_data)\n",
    "insert_data = (4, as4_name, '', system_time, as4_attr)\n",
    "session.execute(insert_sql, insert_data)\n",
    "insert_data = (5, as5_name, '', system_time, as5_attr)\n",
    "session.execute(insert_sql, insert_data)\n",
    "insert_data = (6, as6_name, '', system_time, as6_attr)\n",
    "session.execute(insert_sql, insert_data)\n",
    "insert_data = (7, as7_name, '', system_time, as7_attr)\n",
    "session.execute(insert_sql, insert_data)\n",
    "insert_data = (8, as8_name, '', system_time, as8_attr)"
   ]
  },
  {
   "cell_type": "code",
   "execution_count": 70,
   "id": "dbd44fb4",
   "metadata": {},
   "outputs": [
    {
     "data": {
      "text/plain": [
       "<cassandra.cluster.ResultSet at 0x244cb4032e0>"
      ]
     },
     "execution_count": 70,
     "metadata": {},
     "output_type": "execute_result"
    }
   ],
   "source": [
    "# CLUSTER connection\n",
    "############### INSERT INTO energy.source\n",
    "\n",
    "cluster = Cluster()\n",
    "session = cluster.connect('energy')\n",
    "\n",
    "insert_sql = (\"INSERT INTO energy.source (id, name, description, publisher, systemdate, attributes) \"\n",
    "              \"VALUES(%s, %s, %s, %s, %s, %s) \")\n",
    "\n",
    "insert_data = (1, s1_name, s1_description, s1_publisher, system_time, {'last', 'change', '% change'})\n",
    "session.execute(insert_sql, insert_data)\n",
    "insert_data = (2, s2_name, s2_description, s2_publisher, system_time, {'last', 'change', '% change'})\n",
    "session.execute(insert_sql, insert_data)\n",
    "insert_data = (3, s3_name, s3_description, s3_publisher, system_time, {'last', 'change', '% change'})\n",
    "session.execute(insert_sql, insert_data)"
   ]
  },
  {
   "cell_type": "code",
   "execution_count": 91,
   "id": "870ee231",
   "metadata": {},
   "outputs": [],
   "source": [
    "assetid = as1_id\n",
    "sourceid = s1_id\n",
    "businessdate = '2022-05-09'\n",
    "systemdata = system_time\n",
    "valuesdouble1 = {'last':float(wti_crude_price)}\n",
    "valuestext1 = {'change':wti_crude_change, '% change':wti_crude_percent}\n",
    "\n",
    "valuesdouble1 = {'last':float(brent_crude_price)}\n",
    "valuestext1 = {'change':brent_crude_change, '% change':brent_crude_percent}\n",
    "\n",
    " "
   ]
  },
  {
   "cell_type": "code",
   "execution_count": 92,
   "id": "f1ad27da",
   "metadata": {},
   "outputs": [
    {
     "data": {
      "text/plain": [
       "<cassandra.cluster.ResultSet at 0x244caae1400>"
      ]
     },
     "execution_count": 92,
     "metadata": {},
     "output_type": "execute_result"
    }
   ],
   "source": [
    "# CLUSTER connection\n",
    "############### INSERT INTO energy.data\n",
    "\n",
    "cluster = Cluster()\n",
    "session = cluster.connect('energy')\n",
    "\n",
    "insert_sql = (\"INSERT INTO energy.data (assetid, sourceid, businessdate, systemdate, valuesdouble, valuesinteger, valuestext) \"\n",
    "              \"VALUES(%s, %s, %s, %s, %s, %s, %s) \")\n",
    "\n",
    "insert_data = (assetid, sourceid, businessdate, system_time, valuesdouble1, None, valuestext1)\n",
    "session.execute(insert_sql, insert_data)\n",
    "insert_data = (as2_id, s1_id, businessdate, system_time, valuesdouble2, None, valuestext2)\n",
    "session.execute(insert_sql, insert_data)"
   ]
  }
 ],
 "metadata": {
  "kernelspec": {
   "display_name": "Python 3 (ipykernel)",
   "language": "python",
   "name": "python3"
  },
  "language_info": {
   "codemirror_mode": {
    "name": "ipython",
    "version": 3
   },
   "file_extension": ".py",
   "mimetype": "text/x-python",
   "name": "python",
   "nbconvert_exporter": "python",
   "pygments_lexer": "ipython3",
   "version": "3.9.12"
  }
 },
 "nbformat": 4,
 "nbformat_minor": 5
}
